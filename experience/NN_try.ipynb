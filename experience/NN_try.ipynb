{
 "cells": [
  {
   "cell_type": "code",
   "execution_count": 6,
   "metadata": {},
   "outputs": [
    {
     "data": {
      "text/plain": [
       "<torch.autograd.grad_mode.set_grad_enabled at 0x12bedc5f8>"
      ]
     },
     "execution_count": 6,
     "metadata": {},
     "output_type": "execute_result"
    }
   ],
   "source": [
    "import torch.nn as nn\n",
    "import torch\n",
    "import torch.nn.functional as F\n",
    "import torch.optim as optim\n",
    "\n",
    "import torchvision\n",
    "import torchvision.transforms as transforms\n",
    "\n",
    "torch.set_printoptions(linewidth=120)\n",
    "#output display setting\n",
    "torch.set_grad_enabled(True)"
   ]
  },
  {
   "cell_type": "code",
   "execution_count": 7,
   "metadata": {},
   "outputs": [
    {
     "name": "stdout",
     "output_type": "stream",
     "text": [
      "1.1.0\n",
      "0.3.0\n"
     ]
    }
   ],
   "source": [
    "print(torch.__version__)\n",
    "print(torchvision.__version__)"
   ]
  },
  {
   "cell_type": "code",
   "execution_count": 2,
   "metadata": {},
   "outputs": [],
   "source": [
    "class Network(nn.Module):\n",
    "#有继承的类需要把父类写在括号里\n",
    "    def __init__(self):\n",
    "        super(Network, self).__init__()\n",
    "#规定操作，第三行要写父类的构造器，格式为super(子类，self).__init__（）括号内可\n",
    "#能有父亲类的构造参数。\n",
    "        self.conv1 = nn.Conv2d(in_channels=1, out_channels=6, kernel_size=5)\n",
    "#in_channels=1因为输入的图片为灰阶图片，此超参数由数据影响\n",
    "#类的属性可以是其他类\n",
    "        self.conv2 = nn.Conv2d(in_channels=6, out_channels=12, kernel_size=5)\n",
    "        \n",
    "        self.fc1 = nn.Linear(in_features=12*4*4, out_features=120)\n",
    "        self.fc2= nn.Linear(in_features=120, out_features=60)\n",
    "        \n",
    "        self.out = nn.Linear(in_features=60, out_features=10)\n",
    "#out_features=10由数据决定，分成十类。\n",
    "\n",
    "#一般来说一个层的输出数目就是下一个层的输入数目。\n",
    "\n",
    "\n",
    "        \n",
    "#Network类包含属性：conv1，conv2，fc1，fc2和out一共5个属性，每个属性的值由nn\n",
    "#下面的一个类定义而成（类的属性可以是其他类），类位置在nn/modole/conv中并且加\n",
    "#入了适当的构造参数。其构造参数即为神经网络的“超参数”。超参数由设计者根据经验给出。\n",
    "#\n",
    "#Con2d为图片卷积层：包含三个参数：kernel_size，in_channels，out_features。\n",
    "#kernel_size：定义了卷积核的大小\n",
    "#in_channels：定义了输入的通道数\n",
    "#out_channels：定义了卷积核的数量，每个卷积核都能生成一个卷积图片（feature_maps）\n",
    "# out_features：全连阶层的输出，设计者决定。\n",
    "#一般来说附加的卷积层会提升输出的通道，线性层会一层一层收缩。\n",
    "#\n",
    "\n",
    "    def forward(self, t): \n",
    "        #(1) input layer\n",
    "        t=t\n",
    "        \n",
    "        #(2) hidden conv layer\n",
    "        t=self.conv1(t)\n",
    "        t = F.relu(t)\n",
    "        t = F.max_pool2d(t, kernel_size=2, stride=2)\n",
    "        #relu和pooling不包含权重参数，只是操作，所以直接从torch.nn.functional引用\n",
    "        #大小为2的池化层会将每一个2x2的区域找出最大值并且返回，输出图片是之前的一半\n",
    "        \n",
    "        #(3) hidden conv layer\n",
    "        t=self.conv2(t)\n",
    "        t = F.relu(t)\n",
    "        t = F.max_pool2d(t, kernel_size=2, stride=2)\n",
    "        \n",
    "        #(4) hidden linear layer \n",
    "        t = t.reshape(-1,12*4*4)\n",
    "        t = self.fc1(t)\n",
    "        t = F.relu(t)\n",
    "        \n",
    "        #(5) hidden linear layer \n",
    "        t = self.fc2(t)\n",
    "        t = F.relu(t)\n",
    "        \n",
    "        #(6) output layer\n",
    "        t = self.out(t)\n",
    "        #t = F.softmax(t, dim=1)\n",
    "        \n",
    "        #hidden layers多用ReLU激活函数，单一预测的输出层多用softmax激活函数\n",
    "        \n",
    "        return t"
   ]
  },
  {
   "cell_type": "code",
   "execution_count": 10,
   "metadata": {},
   "outputs": [],
   "source": [
    "train_set = torchvision.datasets.FashionMNIST(\n",
    "        root='./data/FashionMNIST',\n",
    "        train=True,\n",
    "        download=True,\n",
    "        transform=transforms.Compose([transforms.ToTensor()])\n",
    "        )\n",
    "train_loader = torch.utils.data.DataLoader(train_set, batch_size=10)\n"
   ]
  },
  {
   "cell_type": "code",
   "execution_count": 3,
   "metadata": {},
   "outputs": [
    {
     "data": {
      "text/plain": [
       "Network(\n",
       "  (conv1): Conv2d(1, 6, kernel_size=(5, 5), stride=(1, 1))\n",
       "  (conv2): Conv2d(6, 12, kernel_size=(5, 5), stride=(1, 1))\n",
       "  (fc1): Linear(in_features=192, out_features=120, bias=True)\n",
       "  (fc2): Linear(in_features=120, out_features=60, bias=True)\n",
       "  (out): Linear(in_features=60, out_features=10, bias=True)\n",
       ")"
      ]
     },
     "execution_count": 3,
     "metadata": {},
     "output_type": "execute_result"
    }
   ],
   "source": [
    "net = Network()\n",
    "net"
   ]
  },
  {
   "cell_type": "code",
   "execution_count": null,
   "metadata": {},
   "outputs": [],
   "source": []
  }
 ],
 "metadata": {
  "kernelspec": {
   "display_name": "Python 3",
   "language": "python",
   "name": "python3"
  },
  "language_info": {
   "codemirror_mode": {
    "name": "ipython",
    "version": 3
   },
   "file_extension": ".py",
   "mimetype": "text/x-python",
   "name": "python",
   "nbconvert_exporter": "python",
   "pygments_lexer": "ipython3",
   "version": "3.7.3"
  }
 },
 "nbformat": 4,
 "nbformat_minor": 2
}
