{
 "cells": [
  {
   "cell_type": "code",
   "execution_count": 12,
   "metadata": {},
   "outputs": [],
   "source": [
    "import torch.nn as nn"
   ]
  },
  {
   "cell_type": "code",
   "execution_count": 13,
   "metadata": {},
   "outputs": [],
   "source": [
    "class Network():\n",
    "    def __init__(self):\n",
    "        self.layer = None\n",
    "\n",
    "    def forward(self, t): \n",
    "        t = self.layer(t)\n",
    "        return t"
   ]
  },
  {
   "cell_type": "code",
   "execution_count": 16,
   "metadata": {},
   "outputs": [],
   "source": [
    "class Network(nn.Module):\n",
    "    def __init__(self):\n",
    "        super(Network, self).__init__()\n",
    "        self.layer = None\n",
    "\n",
    "    def forward(self, t): \n",
    "        t = self.layer(t)\n",
    "        return t"
   ]
  },
  {
   "cell_type": "code",
   "execution_count": 17,
   "metadata": {},
   "outputs": [],
   "source": [
    "net = Network()"
   ]
  },
  {
   "cell_type": "code",
   "execution_count": 19,
   "metadata": {},
   "outputs": [
    {
     "data": {
      "text/plain": [
       "Network()"
      ]
     },
     "execution_count": 19,
     "metadata": {},
     "output_type": "execute_result"
    }
   ],
   "source": [
    "net"
   ]
  },
  {
   "cell_type": "code",
   "execution_count": 28,
   "metadata": {},
   "outputs": [],
   "source": [
    "class Network(nn.Module):\n",
    "#有继承的类需要把父类写在括号里\n",
    "    def __init__(self):\n",
    "        super(Network, self).__init__()\n",
    "#规定操作，第三行要写父类的构造器，格式为super(子类，self).__init__（）括号内可\n",
    "#能有父亲类的构造参数。\n",
    "        self.conv1 = nn.Conv2d(in_channels=1, out_channels=6, kernel_size=5)\n",
    "#in_channels=1因为输入的图片为灰阶图片，此超参数由数据影响\n",
    "        self.conv2 = nn.Conv2d(in_channels=6, out_channels=12, kernel_size=5)\n",
    "        \n",
    "        self.fc1 = nn.Linear(in_features=12*4*4, out_features=120)\n",
    "        self.fc2= nn.Linear(in_features=120, out_features=60)\n",
    "        \n",
    "        self.out = nn.Linear(in_features=60, out_features=10)\n",
    "#out_features=10由数据决定，分成十类。\n",
    "\n",
    "#一般来说一个层的输出数目就是下一个层的输入数目。\n",
    "\n",
    "\n",
    "        \n",
    "#Network类包含属性：conv1，conv2，fc1，fc2和out一共5个属性，每个属性的值由nn\n",
    "#下面的一个类定义而成，类位置在nn/modole/conv中并且加入了适当的构造参数。其构\n",
    "#造参数即为神经网络的“超参数”。超参数由设计者根据经验给出。\n",
    "#\n",
    "#Con2d为图片卷积层：包含三个参数：kernel_size，in_channels，out_features。\n",
    "#kernel_size：定义了卷积核的大小\n",
    "#in_channels：定义了输入的通道数\n",
    "#out_channels：定义了卷积核的数量，每个卷积核都能生成一个卷积图片（feature_maps）\n",
    "# out_features：全连阶层的输出，设计者决定。\n",
    "#一般来说附加的卷积层会提升输出的通道，线性层会一层一层收缩。\n",
    "#\n",
    "\n",
    "    def forward(self, t): \n",
    "        #implement here\n",
    "        return t"
   ]
  },
  {
   "cell_type": "markdown",
   "metadata": {},
   "source": []
  },
  {
   "cell_type": "code",
   "execution_count": 29,
   "metadata": {},
   "outputs": [
    {
     "data": {
      "text/plain": [
       "Network(\n",
       "  (conv1): Conv2d(1, 6, kernel_size=(5, 5), stride=(1, 1))\n",
       "  (conv2): Conv2d(6, 12, kernel_size=(5, 5), stride=(1, 1))\n",
       "  (fc1): Linear(in_features=192, out_features=120, bias=True)\n",
       "  (fc2): Linear(in_features=120, out_features=60, bias=True)\n",
       "  (out): Linear(in_features=60, out_features=10, bias=True)\n",
       ")"
      ]
     },
     "execution_count": 29,
     "metadata": {},
     "output_type": "execute_result"
    }
   ],
   "source": [
    "net=Network()\n",
    "net"
   ]
  },
  {
   "cell_type": "code",
   "execution_count": 30,
   "metadata": {},
   "outputs": [
    {
     "data": {
      "text/plain": [
       "{'_backend': <torch.nn.backends.thnn.THNNFunctionBackend at 0x11d087f28>,\n",
       " '_parameters': OrderedDict(),\n",
       " '_buffers': OrderedDict(),\n",
       " '_backward_hooks': OrderedDict(),\n",
       " '_forward_hooks': OrderedDict(),\n",
       " '_forward_pre_hooks': OrderedDict(),\n",
       " '_state_dict_hooks': OrderedDict(),\n",
       " '_load_state_dict_pre_hooks': OrderedDict(),\n",
       " '_modules': OrderedDict([('conv1',\n",
       "               Conv2d(1, 6, kernel_size=(5, 5), stride=(1, 1))),\n",
       "              ('conv2', Conv2d(6, 12, kernel_size=(5, 5), stride=(1, 1))),\n",
       "              ('fc1', Linear(in_features=192, out_features=120, bias=True)),\n",
       "              ('fc2', Linear(in_features=120, out_features=60, bias=True)),\n",
       "              ('out', Linear(in_features=60, out_features=10, bias=True))]),\n",
       " 'training': True}"
      ]
     },
     "execution_count": 30,
     "metadata": {},
     "output_type": "execute_result"
    }
   ],
   "source": [
    "vars(net)"
   ]
  },
  {
   "cell_type": "code",
   "execution_count": null,
   "metadata": {},
   "outputs": [],
   "source": []
  }
 ],
 "metadata": {
  "kernelspec": {
   "display_name": "Python 3",
   "language": "python",
   "name": "python3"
  },
  "language_info": {
   "codemirror_mode": {
    "name": "ipython",
    "version": 3
   },
   "file_extension": ".py",
   "mimetype": "text/x-python",
   "name": "python",
   "nbconvert_exporter": "python",
   "pygments_lexer": "ipython3",
   "version": "3.7.3"
  }
 },
 "nbformat": 4,
 "nbformat_minor": 2
}
