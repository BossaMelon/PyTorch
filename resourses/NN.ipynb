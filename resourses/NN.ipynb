{
 "cells": [
  {
   "cell_type": "code",
   "execution_count": 97,
   "metadata": {},
   "outputs": [],
   "source": [
    "import torch.nn as nn\n",
    "import torch\n",
    "import torch.nn.functional as F"
   ]
  },
  {
   "cell_type": "code",
   "execution_count": 98,
   "metadata": {},
   "outputs": [],
   "source": [
    "def get_num_correct(preds, labels):\n",
    "    return pred2.argmax(dim=1).eq(labels).sum().item()"
   ]
  },
  {
   "cell_type": "code",
   "execution_count": 3,
   "metadata": {},
   "outputs": [],
   "source": [
    "class Network(nn.Module):\n",
    "#有继承的类需要把父类写在括号里\n",
    "    def __init__(self):\n",
    "        super(Network, self).__init__()\n",
    "#规定操作，第三行要写父类的构造器，格式为super(子类，self).__init__（）括号内可\n",
    "#能有父亲类的构造参数。\n",
    "        self.conv1 = nn.Conv2d(in_channels=1, out_channels=6, kernel_size=5)\n",
    "#in_channels=1因为输入的图片为灰阶图片，此超参数由数据影响\n",
    "#类的属性可以是其他类\n",
    "        self.conv2 = nn.Conv2d(in_channels=6, out_channels=12, kernel_size=5)\n",
    "        \n",
    "        self.fc1 = nn.Linear(in_features=12*4*4, out_features=120)\n",
    "        self.fc2= nn.Linear(in_features=120, out_features=60)\n",
    "        \n",
    "        self.out = nn.Linear(in_features=60, out_features=10)\n",
    "#out_features=10由数据决定，分成十类。\n",
    "\n",
    "#一般来说一个层的输出数目就是下一个层的输入数目。\n",
    "\n",
    "\n",
    "        \n",
    "#Network类包含属性：conv1，conv2，fc1，fc2和out一共5个属性，每个属性的值由nn\n",
    "#下面的一个类定义而成（类的属性可以是其他类），类位置在nn/modole/conv中并且加\n",
    "#入了适当的构造参数。其构造参数即为神经网络的“超参数”。超参数由设计者根据经验给出。\n",
    "#\n",
    "#Con2d为图片卷积层：包含三个参数：kernel_size，in_channels，out_features。\n",
    "#kernel_size：定义了卷积核的大小\n",
    "#in_channels：定义了输入的通道数\n",
    "#out_channels：定义了卷积核的数量，每个卷积核都能生成一个卷积图片（feature_maps）\n",
    "# out_features：全连阶层的输出，设计者决定。\n",
    "#一般来说附加的卷积层会提升输出的通道，线性层会一层一层收缩。\n",
    "#\n",
    "\n",
    "    def forward(self, t): \n",
    "        #(1) input layer\n",
    "        t=t\n",
    "        \n",
    "        #(2) hidden conv layer\n",
    "        t=self.conv1(t)\n",
    "        t = F.relu(t)\n",
    "        t = F.max_pool2d(t, kernel_size=2, stride=2)\n",
    "        #relu和pooling不包含权重参数，只是操作，所以直接从torch.nn.functional引用\n",
    "        #大小为2的池化层会将每一个2x2的区域找出最大值并且返回，输出图片是之前的一半\n",
    "        \n",
    "        #(3) hidden conv layer\n",
    "        t=self.conv2(t)\n",
    "        t = F.relu(t)\n",
    "        t = F.max_pool2d(t, kernel_size=2, stride=2)\n",
    "        \n",
    "        #(4) hidden linear layer \n",
    "        t = t.reshape(-1,12*4*4)\n",
    "        t = self.fc1(t)\n",
    "        t = F.relu(t)\n",
    "        \n",
    "        #(5) hidden linear layer \n",
    "        t = self.fc2(t)\n",
    "        t = F.relu(t)\n",
    "        \n",
    "        #(6) output layer\n",
    "        t = self.out(t)\n",
    "        #t = F.softmax(t, dim=1)\n",
    "        \n",
    "        #hidden layers多用ReLU激活函数，单一预测的输出层多用softmax激活函数\n",
    "        \n",
    "        return t"
   ]
  },
  {
   "cell_type": "code",
   "execution_count": 6,
   "metadata": {},
   "outputs": [],
   "source": [
    "net = Network()"
   ]
  },
  {
   "cell_type": "code",
   "execution_count": 11,
   "metadata": {},
   "outputs": [
    {
     "name": "stdout",
     "output_type": "stream",
     "text": [
      "Network(\n",
      "  (conv1): Conv2d(1, 6, kernel_size=(5, 5), stride=(1, 1))\n",
      "  (conv2): Conv2d(6, 12, kernel_size=(5, 5), stride=(1, 1))\n",
      "  (fc1): Linear(in_features=192, out_features=120, bias=True)\n",
      "  (fc2): Linear(in_features=120, out_features=60, bias=True)\n",
      "  (out): Linear(in_features=60, out_features=10, bias=True)\n",
      ")\n"
     ]
    }
   ],
   "source": [
    "print(net)\n",
    "#继承了nn.Module这个类才能打印出神经网络的构成，因为nn.Module这个类override了\n",
    "#python类默认的继承中的一个方法。\n",
    "#kernel_size=(5,5)为类自动补全，方形卷积核，stride为卷积步长\n",
    "#bias"
   ]
  },
  {
   "cell_type": "code",
   "execution_count": 12,
   "metadata": {},
   "outputs": [
    {
     "data": {
      "text/plain": [
       "Conv2d(1, 6, kernel_size=(5, 5), stride=(1, 1))"
      ]
     },
     "execution_count": 12,
     "metadata": {},
     "output_type": "execute_result"
    }
   ],
   "source": [
    "net.conv1\n",
    "#也可以打印出相应的属性"
   ]
  },
  {
   "cell_type": "code",
   "execution_count": 15,
   "metadata": {},
   "outputs": [
    {
     "data": {
      "text/plain": [
       "Parameter containing:\n",
       "tensor([[[[-0.0754,  0.0473,  0.0803, -0.1206, -0.0088],\n",
       "          [-0.0668,  0.0425, -0.0932,  0.0182,  0.0688],\n",
       "          [ 0.1886, -0.0400,  0.0023,  0.1900,  0.0632],\n",
       "          [-0.0914, -0.1901, -0.0706,  0.1265,  0.0144],\n",
       "          [-0.1941,  0.0058,  0.0710, -0.0816,  0.0148]]],\n",
       "\n",
       "\n",
       "        [[[ 0.1660,  0.1029,  0.0390, -0.1283,  0.1485],\n",
       "          [-0.1035,  0.1331, -0.1843,  0.1988, -0.0716],\n",
       "          [-0.1431,  0.1293, -0.1194,  0.1289,  0.0581],\n",
       "          [-0.0420, -0.1234,  0.1143, -0.0330, -0.1725],\n",
       "          [ 0.0021,  0.1608,  0.0225,  0.0620, -0.0526]]],\n",
       "\n",
       "\n",
       "        [[[-0.0632,  0.0717,  0.0401, -0.0334, -0.0570],\n",
       "          [-0.1434, -0.0406,  0.0896,  0.1817, -0.0749],\n",
       "          [-0.0746, -0.0774,  0.1365,  0.1238, -0.0481],\n",
       "          [ 0.1566, -0.0367, -0.1992,  0.0045, -0.1563],\n",
       "          [-0.0638, -0.0391, -0.1716,  0.0414,  0.0067]]],\n",
       "\n",
       "\n",
       "        [[[ 0.1934,  0.1922, -0.1462,  0.0595, -0.1648],\n",
       "          [-0.0812, -0.1670, -0.0201,  0.1679,  0.0566],\n",
       "          [-0.1136,  0.0183,  0.0063, -0.1991, -0.1194],\n",
       "          [-0.1632,  0.0585,  0.0182,  0.1117,  0.0939],\n",
       "          [ 0.1203,  0.0292,  0.0708, -0.1714,  0.0214]]],\n",
       "\n",
       "\n",
       "        [[[-0.1744, -0.1108,  0.1283,  0.1600, -0.1852],\n",
       "          [-0.0344, -0.1568,  0.0484, -0.1467,  0.1076],\n",
       "          [-0.1334,  0.0172, -0.1168, -0.0503,  0.0106],\n",
       "          [-0.0704, -0.1681,  0.1847, -0.1114,  0.0842],\n",
       "          [-0.0270, -0.1867,  0.1292,  0.0576, -0.1114]]],\n",
       "\n",
       "\n",
       "        [[[-0.1038, -0.1978,  0.0397, -0.1529, -0.1867],\n",
       "          [-0.1930,  0.1052, -0.0025,  0.1330,  0.1208],\n",
       "          [-0.0782,  0.1197,  0.0775, -0.0831,  0.0768],\n",
       "          [-0.0236, -0.1865,  0.0697, -0.0485,  0.0737],\n",
       "          [-0.1589, -0.0134, -0.0216, -0.0263,  0.1274]]]], requires_grad=True)"
      ]
     },
     "execution_count": 15,
     "metadata": {},
     "output_type": "execute_result"
    }
   ],
   "source": [
    "net.conv1.weight\n",
    "#可以打印出相应层的内部权重\n",
    "#weight其实也是一个类。"
   ]
  },
  {
   "cell_type": "code",
   "execution_count": 18,
   "metadata": {
    "scrolled": true
   },
   "outputs": [
    {
     "name": "stdout",
     "output_type": "stream",
     "text": [
      "torch.Size([6, 1, 5, 5])\n",
      "torch.Size([12, 6, 5, 5])\n"
     ]
    }
   ],
   "source": [
    "print(net.conv1.weight.shape)\n",
    "print(net.conv2.weight.shape)\n",
    "#第一维：输出通道数目,也是卷积核数目，第二维：输入通道数目，也可以说是卷积核的\n",
    "#深度，第三四维：卷积核大小"
   ]
  },
  {
   "cell_type": "code",
   "execution_count": 20,
   "metadata": {
    "scrolled": true
   },
   "outputs": [
    {
     "data": {
      "text/plain": [
       "tensor([[[-0.0757, -0.0596, -0.0193, -0.0275, -0.0730],\n",
       "         [-0.0695,  0.0369, -0.0422, -0.0796, -0.0501],\n",
       "         [ 0.0684,  0.0569,  0.0044,  0.0751, -0.0075],\n",
       "         [-0.0092,  0.0732,  0.0386, -0.0229,  0.0292],\n",
       "         [-0.0766,  0.0090, -0.0520, -0.0125, -0.0233]],\n",
       "\n",
       "        [[ 0.0401, -0.0507,  0.0477, -0.0739,  0.0229],\n",
       "         [ 0.0058, -0.0495, -0.0605, -0.0446, -0.0499],\n",
       "         [-0.0694,  0.0768, -0.0444, -0.0575, -0.0032],\n",
       "         [ 0.0009, -0.0538, -0.0459, -0.0746,  0.0134],\n",
       "         [ 0.0402,  0.0562, -0.0701, -0.0223, -0.0683]],\n",
       "\n",
       "        [[ 0.0620, -0.0141,  0.0734, -0.0476,  0.0335],\n",
       "         [-0.0087, -0.0422, -0.0726,  0.0450, -0.0629],\n",
       "         [ 0.0333,  0.0643, -0.0367, -0.0392, -0.0384],\n",
       "         [ 0.0741, -0.0240, -0.0367, -0.0274,  0.0511],\n",
       "         [-0.0440,  0.0052,  0.0074, -0.0245,  0.0792]],\n",
       "\n",
       "        [[-0.0226, -0.0674,  0.0140, -0.0793, -0.0473],\n",
       "         [-0.0728,  0.0349, -0.0773,  0.0646,  0.0778],\n",
       "         [-0.0519,  0.0207, -0.0785, -0.0316, -0.0367],\n",
       "         [-0.0794, -0.0439, -0.0507,  0.0267,  0.0232],\n",
       "         [ 0.0462, -0.0337,  0.0728, -0.0099, -0.0656]],\n",
       "\n",
       "        [[ 0.0020,  0.0646,  0.0215,  0.0696,  0.0293],\n",
       "         [ 0.0668, -0.0439, -0.0371,  0.0160,  0.0438],\n",
       "         [ 0.0416,  0.0711,  0.0560, -0.0185, -0.0620],\n",
       "         [ 0.0159, -0.0182, -0.0702, -0.0803,  0.0527],\n",
       "         [-0.0092, -0.0535, -0.0612, -0.0148,  0.0363]],\n",
       "\n",
       "        [[ 0.0388, -0.0460, -0.0161,  0.0782, -0.0660],\n",
       "         [-0.0139,  0.0576,  0.0701,  0.0207,  0.0097],\n",
       "         [-0.0476, -0.0587,  0.0461,  0.0011,  0.0537],\n",
       "         [ 0.0705,  0.0449, -0.0741,  0.0383,  0.0434],\n",
       "         [-0.0752,  0.0512, -0.0547,  0.0070,  0.0258]]],\n",
       "       grad_fn=<SelectBackward>)"
      ]
     },
     "execution_count": 20,
     "metadata": {},
     "output_type": "execute_result"
    }
   ],
   "source": [
    "net.conv2.weight[0]\n",
    "#得到第二个卷积层的第一个卷积核的信息，5x5深，度为6"
   ]
  },
  {
   "cell_type": "code",
   "execution_count": 21,
   "metadata": {},
   "outputs": [
    {
     "data": {
      "text/plain": [
       "Parameter containing:\n",
       "tensor([[ 0.0627,  0.0458,  0.0071,  ...,  0.0499,  0.0486, -0.0406],\n",
       "        [-0.0462, -0.0552,  0.0257,  ...,  0.0628, -0.0050,  0.0547],\n",
       "        [ 0.0110,  0.0389,  0.0717,  ..., -0.0386, -0.0271,  0.0551],\n",
       "        ...,\n",
       "        [-0.0567, -0.0160, -0.0680,  ..., -0.0359,  0.0013,  0.0390],\n",
       "        [ 0.0476, -0.0421, -0.0010,  ..., -0.0696,  0.0563,  0.0648],\n",
       "        [ 0.0695, -0.0401, -0.0659,  ...,  0.0661, -0.0322, -0.0223]],\n",
       "       requires_grad=True)"
      ]
     },
     "execution_count": 21,
     "metadata": {},
     "output_type": "execute_result"
    }
   ],
   "source": [
    "net.fc1.weight\n",
    "#rank=2张量， 也叫linear_map"
   ]
  },
  {
   "cell_type": "code",
   "execution_count": 22,
   "metadata": {},
   "outputs": [
    {
     "data": {
      "text/plain": [
       "torch.Size([120, 192])"
      ]
     },
     "execution_count": 22,
     "metadata": {},
     "output_type": "execute_result"
    }
   ],
   "source": [
    "net.fc1.weight.shape"
   ]
  },
  {
   "cell_type": "code",
   "execution_count": 23,
   "metadata": {},
   "outputs": [],
   "source": [
    "#120为输出的feature数量，192为输入的feature数量，矩阵乘法时线性层的参数矩阵\n",
    "#在前面，前一层输出 在后面。"
   ]
  },
  {
   "cell_type": "code",
   "execution_count": 34,
   "metadata": {},
   "outputs": [
    {
     "name": "stdout",
     "output_type": "stream",
     "text": [
      "conv1.weight \t\t\t torch.Size([6, 1, 5, 5])\n",
      "conv1.bias \t\t\t torch.Size([6])\n",
      "conv2.weight \t\t\t torch.Size([12, 6, 5, 5])\n",
      "conv2.bias \t\t\t torch.Size([12])\n",
      "fc1.weight \t\t\t torch.Size([120, 192])\n",
      "fc1.bias \t\t\t torch.Size([120])\n",
      "fc2.weight \t\t\t torch.Size([60, 120])\n",
      "fc2.bias \t\t\t torch.Size([60])\n",
      "out.weight \t\t\t torch.Size([10, 60])\n",
      "out.bias \t\t\t torch.Size([10])\n"
     ]
    }
   ],
   "source": [
    "for name, param in net.named_parameters():\n",
    "    print(name,'\\t\\t\\t',param.shape)\n",
    "    \n",
    "#关于bias：为神经元激活的阈值"
   ]
  },
  {
   "cell_type": "code",
   "execution_count": 35,
   "metadata": {
    "scrolled": true
   },
   "outputs": [
    {
     "name": "stdout",
     "output_type": "stream",
     "text": [
      "torch.Size([6, 1, 5, 5])\n",
      "torch.Size([6])\n",
      "torch.Size([12, 6, 5, 5])\n",
      "torch.Size([12])\n",
      "torch.Size([120, 192])\n",
      "torch.Size([120])\n",
      "torch.Size([60, 120])\n",
      "torch.Size([60])\n",
      "torch.Size([10, 60])\n",
      "torch.Size([10])\n"
     ]
    }
   ],
   "source": [
    "for param in net.parameters():\n",
    "    print(param.shape)"
   ]
  },
  {
   "cell_type": "code",
   "execution_count": 90,
   "metadata": {},
   "outputs": [],
   "source": [
    "fc=nn.Linear(in_features=4, out_features=3, bias=False)"
   ]
  },
  {
   "cell_type": "code",
   "execution_count": 91,
   "metadata": {},
   "outputs": [
    {
     "data": {
      "text/plain": [
       "torch.Size([3, 4])"
      ]
     },
     "execution_count": 91,
     "metadata": {},
     "output_type": "execute_result"
    }
   ],
   "source": [
    "fc.weight.shape\n",
    "#随即初始化生成矩阵"
   ]
  },
  {
   "cell_type": "code",
   "execution_count": 92,
   "metadata": {},
   "outputs": [],
   "source": [
    "weight_matrix = torch.tensor([[1,2,3,4],[2,3,4,5],[3,4,5,6]], dtype = torch.float32)\n",
    "in_features = torch.tensor([1,2,3,4],dtype = torch.float32)"
   ]
  },
  {
   "cell_type": "code",
   "execution_count": 96,
   "metadata": {},
   "outputs": [
    {
     "data": {
      "text/plain": [
       "Parameter containing:\n",
       "tensor([[1., 2., 3., 4.],\n",
       "        [2., 3., 4., 5.],\n",
       "        [3., 4., 5., 6.]], requires_grad=True)"
      ]
     },
     "execution_count": 96,
     "metadata": {},
     "output_type": "execute_result"
    }
   ],
   "source": [
    "fc.weight = nn.Parameter(weight_matrix)\n",
    "fc.weight\n",
    "#weigh也可以手动设定，需要用nn.Parameter类来生成对应实例。"
   ]
  },
  {
   "cell_type": "code",
   "execution_count": 95,
   "metadata": {},
   "outputs": [
    {
     "data": {
      "text/plain": [
       "tensor([30., 40., 50.], grad_fn=<SqueezeBackward3>)"
      ]
     },
     "execution_count": 95,
     "metadata": {},
     "output_type": "execute_result"
    }
   ],
   "source": [
    "fc(in_features)\n",
    "#fc的输入直接可以写进类的初始化参数里，在无bias情况下直接做矩阵乘法\n",
    "#这里运用了__call__()的表达，引用fc()时，call了其forward(input)的方法。"
   ]
  },
  {
   "cell_type": "code",
   "execution_count": null,
   "metadata": {},
   "outputs": [],
   "source": []
  },
  {
   "cell_type": "code",
   "execution_count": null,
   "metadata": {},
   "outputs": [],
   "source": []
  }
 ],
 "metadata": {
  "kernelspec": {
   "display_name": "Python 3",
   "language": "python",
   "name": "python3"
  },
  "language_info": {
   "codemirror_mode": {
    "name": "ipython",
    "version": 3
   },
   "file_extension": ".py",
   "mimetype": "text/x-python",
   "name": "python",
   "nbconvert_exporter": "python",
   "pygments_lexer": "ipython3",
   "version": "3.7.3"
  }
 },
 "nbformat": 4,
 "nbformat_minor": 2
}
